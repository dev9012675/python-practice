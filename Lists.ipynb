{
 "cells": [
  {
   "cell_type": "markdown",
   "id": "3d6694ff-0dff-455c-a7bc-45ac0e1eda03",
   "metadata": {},
   "source": [
    "# Lists"
   ]
  },
  {
   "cell_type": "markdown",
   "id": "4cb41d51-365a-49d5-8387-6975452a74de",
   "metadata": {},
   "source": [
    "## Adding and Removing Items From Lists"
   ]
  },
  {
   "cell_type": "code",
   "execution_count": 16,
   "id": "72429453-5839-43bc-b8f7-1596e709406c",
   "metadata": {},
   "outputs": [
    {
     "name": "stdout",
     "output_type": "stream",
     "text": [
      "John is invited to dinner.\n",
      "Doe is invited to dinner.\n",
      "Jane is invited to dinner. \n",
      "\n",
      "A bigger table has been found.\n",
      "\n",
      "Paul is invited to dinner.\n",
      "Michael is invited to dinner.\n",
      "John is invited to dinner.\n",
      "Doe is invited to dinner.\n",
      "Jane is invited to dinner.\n",
      "Shafiq is invited to dinner.\n",
      "\n",
      "The dinner table won't arrive in time for dinner and only space for two guests is available.\n",
      "\n",
      "Shafiq is not invited to dinner.\n",
      "Jane is not invited to dinner.\n",
      "Doe is not invited to dinner.\n",
      "John is not invited to dinner.\n",
      "\n",
      "2 people are still invited to dinner\n",
      "\n",
      "Paul is still invited to dinner\n",
      "Michael is still invited to dinner\n",
      "[]\n"
     ]
    }
   ],
   "source": [
    "guests = ['John' , 'Doe' , 'Jane']\n",
    "print(f'{guests[0]} is invited to dinner.')\n",
    "print(f'{guests[1]} is invited to dinner.')\n",
    "print(f'{guests[2]} is invited to dinner. \\n')\n",
    "\n",
    "print('A bigger table has been found.\\n')\n",
    "\n",
    "guests.insert(0 , 'Paul')\n",
    "guests.insert(1 , 'Michael')\n",
    "guests.append('Shafiq')\n",
    "\n",
    "print(f'{guests[0]} is invited to dinner.')\n",
    "print(f'{guests[1]} is invited to dinner.')\n",
    "print(f'{guests[2]} is invited to dinner.')\n",
    "print(f'{guests[3]} is invited to dinner.')\n",
    "print(f'{guests[4]} is invited to dinner.')\n",
    "print(f'{guests[5]} is invited to dinner.\\n')\n",
    "\n",
    "print(\"The dinner table won't arrive in time for dinner and only space for two guests is available.\\n\")\n",
    "\n",
    "print(f'{guests.pop()} is not invited to dinner.')\n",
    "print(f'{guests.pop()} is not invited to dinner.')\n",
    "print(f'{guests.pop()} is not invited to dinner.')\n",
    "print(f'{guests.pop()} is not invited to dinner.\\n')\n",
    "\n",
    "print(f'{len(guests)} people are still invited to dinner\\n')\n",
    "\n",
    "print(f'{guests[0]} is still invited to dinner')\n",
    "print(f'{guests[1]} is still invited to dinner')\n",
    "del guests[0]\n",
    "del guests[0]\n",
    "print(guests)\n"
   ]
  },
  {
   "cell_type": "markdown",
   "id": "4232c43b-ca43-40ed-9a00-b1bb68b78ee1",
   "metadata": {},
   "source": [
    "## Organizing Lists"
   ]
  },
  {
   "cell_type": "code",
   "execution_count": 29,
   "id": "bb8a07ef-ce53-431a-a00f-4ab09b281063",
   "metadata": {},
   "outputs": [
    {
     "name": "stdout",
     "output_type": "stream",
     "text": [
      "['New York', 'Antartica', 'Berlin', 'Paris', 'Hong Kong']\n",
      "['Antartica', 'Berlin', 'Hong Kong', 'New York', 'Paris']\n",
      "['New York', 'Antartica', 'Berlin', 'Paris', 'Hong Kong']\n",
      "['Paris', 'New York', 'Hong Kong', 'Berlin', 'Antartica']\n",
      "['New York', 'Antartica', 'Berlin', 'Paris', 'Hong Kong']\n",
      "['Hong Kong', 'Paris', 'Berlin', 'Antartica', 'New York']\n",
      "['New York', 'Antartica', 'Berlin', 'Paris', 'Hong Kong']\n",
      "['Antartica', 'Berlin', 'Hong Kong', 'New York', 'Paris']\n",
      "['Paris', 'New York', 'Hong Kong', 'Berlin', 'Antartica']\n"
     ]
    }
   ],
   "source": [
    "places = ['New York' , 'Antartica' , 'Berlin' , 'Paris' , 'Hong Kong']\n",
    "print(places)\n",
    "print(sorted(places))\n",
    "print(places)\n",
    "print(sorted(places , reverse=True))\n",
    "print(places)\n",
    "places.reverse()\n",
    "print(places)\n",
    "places.reverse()\n",
    "print(places)\n",
    "places.sort()\n",
    "print(places)\n",
    "places.sort(reverse=True)\n",
    "print(places)"
   ]
  },
  {
   "cell_type": "markdown",
   "id": "382d26b8-2d2c-4c80-b995-26d82f3668aa",
   "metadata": {},
   "source": [
    "## Looping through Lists"
   ]
  },
  {
   "cell_type": "code",
   "execution_count": 2,
   "id": "32d66539-d43e-4e1a-88c4-225d14843828",
   "metadata": {},
   "outputs": [
    {
     "name": "stdout",
     "output_type": "stream",
     "text": [
      "Cat would make a great pet\n",
      "Dog would make a great pet\n",
      "Rabbit would make a great pet\n",
      "\n",
      "All of the above animals would make great pets.\n"
     ]
    }
   ],
   "source": [
    "animals = ['Cat' ,  'Dog' , 'Rabbit']\n",
    "for animal in animals:\n",
    "    print(f'{animal} would make a great pet')\n",
    "print('\\nAll of the above animals would make great pets.')"
   ]
  },
  {
   "cell_type": "markdown",
   "id": "f40ddee2-7e73-4b23-aea5-3f3c59cc2fb3",
   "metadata": {},
   "source": [
    "## Numerical Lists"
   ]
  },
  {
   "cell_type": "code",
   "execution_count": 4,
   "id": "132bd30c-d8b4-416a-a8fe-553c0de2260f",
   "metadata": {},
   "outputs": [
    {
     "name": "stdout",
     "output_type": "stream",
     "text": [
      "1\n",
      "3\n",
      "5\n",
      "7\n",
      "9\n",
      "11\n",
      "13\n",
      "15\n",
      "17\n",
      "19\n"
     ]
    }
   ],
   "source": [
    "for value in range(1 , 20 ,2):\n",
    "    print(value)"
   ]
  },
  {
   "cell_type": "code",
   "execution_count": 5,
   "id": "4386db68-3b5f-4e79-951c-5b4c21be4c49",
   "metadata": {},
   "outputs": [
    {
     "name": "stdout",
     "output_type": "stream",
     "text": [
      "3\n",
      "6\n",
      "9\n",
      "12\n",
      "15\n",
      "18\n",
      "21\n",
      "24\n",
      "27\n"
     ]
    }
   ],
   "source": [
    "for value in range(3,30 ,3):\n",
    "    print(value)"
   ]
  },
  {
   "cell_type": "code",
   "execution_count": 6,
   "id": "d136c13c-cc21-4853-a6fb-2b9a443d1337",
   "metadata": {},
   "outputs": [
    {
     "name": "stdout",
     "output_type": "stream",
     "text": [
      "1\n",
      "8\n",
      "27\n",
      "64\n",
      "125\n",
      "216\n",
      "343\n",
      "512\n",
      "729\n",
      "1000\n"
     ]
    }
   ],
   "source": [
    "cubes = [value**3 for value in range(1,11)]\n",
    "for cube in cubes:\n",
    "    print(cube)"
   ]
  },
  {
   "cell_type": "markdown",
   "id": "54acb2b7-11a5-4f1e-9018-edde482ae3df",
   "metadata": {},
   "source": [
    "## Slicing a List"
   ]
  },
  {
   "cell_type": "code",
   "execution_count": 10,
   "id": "307877cd-4232-476b-92d0-2115eaef141e",
   "metadata": {},
   "outputs": [
    {
     "name": "stdout",
     "output_type": "stream",
     "text": [
      "The first two elements in the list are:\n",
      "\n",
      "Cat\n",
      "Dog\n",
      "\n",
      "The last two elements in the list are:\n",
      "\n",
      "Dog\n",
      "Rabbit\n"
     ]
    }
   ],
   "source": [
    "animals = ['Cat' ,  'Dog' , 'Rabbit']\n",
    "print('The first two elements in the list are:\\n')\n",
    "\n",
    "for animal in animals[:2]:\n",
    "    print(animal)\n",
    "\n",
    "print('\\nThe last two elements in the list are:\\n')\n",
    "\n",
    "for animal in animals[-2:]:\n",
    "    print(animal)"
   ]
  },
  {
   "cell_type": "markdown",
   "id": "d913ebc1-7e60-4ebd-9302-753000716854",
   "metadata": {},
   "source": [
    "## Copying a List"
   ]
  },
  {
   "cell_type": "code",
   "execution_count": 12,
   "id": "65edf1c6-5f11-43d4-9d80-ea2274b9dcef",
   "metadata": {},
   "outputs": [
    {
     "name": "stdout",
     "output_type": "stream",
     "text": [
      "My favourite animals are:\n",
      "Cat\n",
      "Dog\n",
      "Rabbit\n",
      "Turtle\n",
      "\n",
      "My friend's favourite animals are:\n",
      "Cat\n",
      "Dog\n",
      "Rabbit\n",
      "Hamster\n"
     ]
    }
   ],
   "source": [
    "animals = ['Cat' ,  'Dog' , 'Rabbit']\n",
    "friend_animals = animals[:]\n",
    "animals.append('Turtle')\n",
    "friend_animals.append('Hamster')\n",
    "print('My favourite animals are:')\n",
    "for animal in animals:\n",
    "    print(animal)\n",
    "\n",
    "print(\"\\nMy friend's favourite animals are:\")\n",
    "for animal in friend_animals:\n",
    "    print(animal)"
   ]
  },
  {
   "cell_type": "markdown",
   "id": "dff21175-3ef7-4c64-9938-f0da7b87f13f",
   "metadata": {},
   "source": [
    "## Tuples"
   ]
  },
  {
   "cell_type": "code",
   "execution_count": 14,
   "id": "067517b6-7e74-4379-8ac6-c3fe24339ad8",
   "metadata": {},
   "outputs": [
    {
     "name": "stdout",
     "output_type": "stream",
     "text": [
      "Our resturant offers the following foods:\n",
      "Burger\n",
      "Pizza\n",
      "Fries\n",
      "Cake\n",
      "Nuggets\n"
     ]
    },
    {
     "ename": "TypeError",
     "evalue": "'str' object does not support item assignment",
     "output_type": "error",
     "traceback": [
      "\u001b[1;31m---------------------------------------------------------------------------\u001b[0m",
      "\u001b[1;31mTypeError\u001b[0m                                 Traceback (most recent call last)",
      "Cell \u001b[1;32mIn[14], line 5\u001b[0m\n\u001b[0;32m      3\u001b[0m \u001b[38;5;28;01mfor\u001b[39;00m food \u001b[38;5;129;01min\u001b[39;00m resturant_foods:\n\u001b[0;32m      4\u001b[0m     \u001b[38;5;28mprint\u001b[39m(food)\n\u001b[1;32m----> 5\u001b[0m \u001b[43mfood\u001b[49m\u001b[43m[\u001b[49m\u001b[38;5;241;43m0\u001b[39;49m\u001b[43m]\u001b[49m \u001b[38;5;241m=\u001b[39m \u001b[38;5;124m'\u001b[39m\u001b[38;5;124mIce Cream\u001b[39m\u001b[38;5;124m'\u001b[39m\n",
      "\u001b[1;31mTypeError\u001b[0m: 'str' object does not support item assignment"
     ]
    }
   ],
   "source": [
    "resturant_foods = ('Burger' , 'Pizza' , 'Fries' , 'Cake' , 'Nuggets')\n",
    "print('Our resturant offers the following foods:')\n",
    "for food in resturant_foods:\n",
    "    print(food)\n",
    "food[0] = 'Ice Cream'"
   ]
  },
  {
   "cell_type": "code",
   "execution_count": null,
   "id": "17e0a84f-612f-4e22-8fe6-8c7d50d968cc",
   "metadata": {},
   "outputs": [],
   "source": []
  }
 ],
 "metadata": {
  "kernelspec": {
   "display_name": "Python 3 (ipykernel)",
   "language": "python",
   "name": "python3"
  },
  "language_info": {
   "codemirror_mode": {
    "name": "ipython",
    "version": 3
   },
   "file_extension": ".py",
   "mimetype": "text/x-python",
   "name": "python",
   "nbconvert_exporter": "python",
   "pygments_lexer": "ipython3",
   "version": "3.13.2"
  }
 },
 "nbformat": 4,
 "nbformat_minor": 5
}
