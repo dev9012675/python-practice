{
 "cells": [
  {
   "cell_type": "code",
   "execution_count": 3,
   "id": "b6304d9c-f33e-4169-875b-1b6154703d9f",
   "metadata": {},
   "outputs": [
    {
     "name": "stdout",
     "output_type": "stream",
     "text": [
      "Hello World\n"
     ]
    }
   ],
   "source": [
    "print(\"Hello World\")"
   ]
  },
  {
   "cell_type": "raw",
   "id": "d917c382-428e-41f6-ac58-0b4d85c97a36",
   "metadata": {},
   "source": [
    "Hello World code"
   ]
  },
  {
   "cell_type": "markdown",
   "id": "32b5b652-0ae5-490a-bcc4-a4af9fb93b6f",
   "metadata": {},
   "source": [
    "`Using Variables`                                     "
   ]
  },
  {
   "cell_type": "code",
   "execution_count": 4,
   "id": "131af00b-a22b-4a7a-8544-3483a97126eb",
   "metadata": {},
   "outputs": [
    {
     "name": "stdout",
     "output_type": "stream",
     "text": [
      "Old Message\n",
      "New Message\n"
     ]
    }
   ],
   "source": [
    "message = 'Old Message'\n",
    "print(message)\n",
    "message = 'New Message'\n",
    "print(message)"
   ]
  },
  {
   "cell_type": "markdown",
   "id": "718e22d9-201e-41d7-b5d1-6eeed344e795",
   "metadata": {},
   "source": [
    "`String Interpolation and Functions`"
   ]
  },
  {
   "cell_type": "code",
   "execution_count": 6,
   "id": "f6451009-f31f-4d6c-bd6b-37ed61d2f76c",
   "metadata": {},
   "outputs": [
    {
     "name": "stdout",
     "output_type": "stream",
     "text": [
      "My name is John and my age is 34\n"
     ]
    }
   ],
   "source": [
    "name = 'John'\n",
    "age = 34\n",
    "print(f\"My name is {name.title()} and my age is {age}\")"
   ]
  },
  {
   "cell_type": "code",
   "execution_count": 7,
   "id": "c97a5f2b-1d4d-4cf3-9b61-d1dedd194dfa",
   "metadata": {},
   "outputs": [
    {
     "name": "stdout",
     "output_type": "stream",
     "text": [
      "Hello Eric, Would you like to learn Python today?\n"
     ]
    }
   ],
   "source": [
    "name = 'Eric'\n",
    "print(f\"Hello {name}, Would you like to learn Python today?\")"
   ]
  },
  {
   "cell_type": "code",
   "execution_count": 8,
   "id": "3b1fe229-20d4-4be1-9261-7905ebb6e466",
   "metadata": {},
   "outputs": [
    {
     "name": "stdout",
     "output_type": "stream",
     "text": [
      "ALBERT HOLLAND\n",
      "albert holland\n",
      "Albert Holland\n"
     ]
    }
   ],
   "source": [
    "name = 'Albert holland'\n",
    "print(name.upper())\n",
    "print(name.lower())\n",
    "print(name.title())"
   ]
  },
  {
   "cell_type": "code",
   "execution_count": 10,
   "id": "d7100cbd-af11-4583-8695-a4d3fd26f258",
   "metadata": {},
   "outputs": [
    {
     "name": "stdout",
     "output_type": "stream",
     "text": [
      "Albert Einstein  once said, “A person who never made a mistake never tried anything new.”\n"
     ]
    }
   ],
   "source": [
    "famous_person = 'Albert Einstein'\n",
    "message = f'{famous_person}  once said, “A person who never made a mistake never tried anything new.”'\n",
    "print(message)\n"
   ]
  },
  {
   "cell_type": "code",
   "execution_count": 12,
   "id": "ff540f1d-06db-49ab-99f7-904c7b8cafd7",
   "metadata": {},
   "outputs": [
    {
     "name": "stdout",
     "output_type": "stream",
     "text": [
      "\t Albert \n",
      " Einstein \t\n",
      "Albert \n",
      " Einstein \t\n",
      "\t Albert \n",
      " Einstein\n",
      "Albert \n",
      " Einstein\n"
     ]
    }
   ],
   "source": [
    "name = '\\t Albert \\n Einstein \\t'\n",
    "print(name)\n",
    "print(name.lstrip())\n",
    "print(name.rstrip())\n",
    "print(name.strip())"
   ]
  },
  {
   "cell_type": "markdown",
   "id": "e759d62d-e739-40f6-8f60-2e070915129c",
   "metadata": {},
   "source": [
    "`Numbers`"
   ]
  },
  {
   "cell_type": "code",
   "execution_count": 14,
   "id": "30dcc8a2-f2ba-457b-9f19-fba3631ab7c9",
   "metadata": {},
   "outputs": [
    {
     "name": "stdout",
     "output_type": "stream",
     "text": [
      "8\n",
      "8\n",
      "8\n",
      "8.0\n",
      "5 is my favourite number\n"
     ]
    }
   ],
   "source": [
    "print(6+2)\n",
    "print(12-4)\n",
    "print(4*2)\n",
    "print(128/16)\n",
    "favourite = 5\n",
    "print(f'{favourite} is my favourite number')"
   ]
  },
  {
   "cell_type": "code",
   "execution_count": null,
   "id": "1c93e63b-9c2a-4a6f-b82a-afa63f34bbd5",
   "metadata": {},
   "outputs": [],
   "source": []
  }
 ],
 "metadata": {
  "kernelspec": {
   "display_name": "Python 3 (ipykernel)",
   "language": "python",
   "name": "python3"
  },
  "language_info": {
   "codemirror_mode": {
    "name": "ipython",
    "version": 3
   },
   "file_extension": ".py",
   "mimetype": "text/x-python",
   "name": "python",
   "nbconvert_exporter": "python",
   "pygments_lexer": "ipython3",
   "version": "3.13.2"
  }
 },
 "nbformat": 4,
 "nbformat_minor": 5
}
