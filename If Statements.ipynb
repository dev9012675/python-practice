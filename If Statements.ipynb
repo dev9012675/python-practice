{
 "cells": [
  {
   "cell_type": "markdown",
   "id": "57ca640c-3e55-493a-b450-a5fbb16979a0",
   "metadata": {},
   "source": [
    "# If Statements"
   ]
  },
  {
   "cell_type": "code",
   "execution_count": 10,
   "id": "976158fe-e555-47e7-bc00-f50872f781b1",
   "metadata": {},
   "outputs": [
    {
     "name": "stdout",
     "output_type": "stream",
     "text": [
      "You are an elder.\n"
     ]
    }
   ],
   "source": [
    "# The following code determines a person's stage of life\n",
    "age = 66\n",
    "if age < 2:\n",
    "    print('You are a baby.')\n",
    "elif age >=2 and age < 4:\n",
    "    print('You are a toddler.')\n",
    "elif age >=4 and age < 13:\n",
    "    print('You are a kid.')\n",
    "elif age >=13 and age < 20:\n",
    "    print('You are a teenager.')\n",
    "elif age >= 20 and age < 65:\n",
    "    print('You are an adult.')\n",
    "elif age >= 65:\n",
    "    print('You are an elder.')"
   ]
  },
  {
   "cell_type": "markdown",
   "id": "2ac38218-6eaa-4410-8632-5fb9a0af172f",
   "metadata": {},
   "source": [
    "## Using If Statements with Lists"
   ]
  },
  {
   "cell_type": "code",
   "execution_count": 7,
   "id": "7d93f3bb-2b57-4fbe-9c53-4c940bdf37a4",
   "metadata": {},
   "outputs": [
    {
     "name": "stdout",
     "output_type": "stream",
     "text": [
      "Hello Admin, Would you like to see a status report?\n",
      "Hello John, Thanks for Logging In Again.\n",
      "Hello Jill, Thanks for Logging In Again.\n",
      "Hello Doe, Thanks for Logging In Again.\n",
      "Hello Jane, Thanks for Logging In Again.\n"
     ]
    }
   ],
   "source": [
    "# The following code displays a unique message to the admin user.\n",
    "\n",
    "users = ['admin' , 'john' , 'jill' , 'doe' , 'jane']\n",
    "if users:\n",
    "    for user in users:\n",
    "        if user == 'admin':\n",
    "            print('Hello Admin, Would you like to see a status report?')\n",
    "        else:\n",
    "            print(f'Hello {user.title()}, Thanks for Logging In Again.')\n",
    "else:\n",
    "    print('We need to find some users.')"
   ]
  },
  {
   "cell_type": "code",
   "execution_count": 9,
   "id": "e80173f8-c060-4768-913c-94382fd6830b",
   "metadata": {},
   "outputs": [
    {
     "name": "stdout",
     "output_type": "stream",
     "text": [
      "Username JOHN is not available\n",
      "Username SmItH is not available\n",
      "Username Steve is  available\n",
      "Username Patrick is  available\n",
      "Username Paul is  available\n"
     ]
    }
   ],
   "source": [
    "# The following code checks whether a username is available or not.\n",
    "\n",
    "current_users = ['john' , 'jane' , 'doe' , 'jenny' , 'smith']\n",
    "new_users = ['JOHN' , 'SmItH' , 'Steve' , 'Patrick' , 'Paul']\n",
    "for username in new_users:\n",
    "    if username.lower() in current_users:\n",
    "        print(f'Username {username} is not available')\n",
    "    else:\n",
    "        print(f'Username {username} is  available')"
   ]
  },
  {
   "cell_type": "code",
   "execution_count": 11,
   "id": "51537c94-7628-4bda-9edf-2d1cc7868b05",
   "metadata": {},
   "outputs": [
    {
     "name": "stdout",
     "output_type": "stream",
     "text": [
      "1st\n",
      "2nd\n",
      "3rd\n",
      "4th\n",
      "5th\n",
      "6th\n",
      "7th\n",
      "8th\n",
      "9th\n"
     ]
    }
   ],
   "source": [
    "# The following code displays ordinal numbers from the range 1 to 9\n",
    "\n",
    "nums = list(range(1 , 10))\n",
    "for num in nums:\n",
    "    if num == 1:\n",
    "        print(f'{num}st')\n",
    "    elif num == 2:\n",
    "        print(f'{num}nd')\n",
    "    elif num == 3:\n",
    "        print(f'{num}rd')\n",
    "    else:\n",
    "        print(f'{num}th')"
   ]
  },
  {
   "cell_type": "code",
   "execution_count": null,
   "id": "60448703-cb5c-4f29-869d-9d567ab4663f",
   "metadata": {},
   "outputs": [],
   "source": []
  }
 ],
 "metadata": {
  "kernelspec": {
   "display_name": "Python 3 (ipykernel)",
   "language": "python",
   "name": "python3"
  },
  "language_info": {
   "codemirror_mode": {
    "name": "ipython",
    "version": 3
   },
   "file_extension": ".py",
   "mimetype": "text/x-python",
   "name": "python",
   "nbconvert_exporter": "python",
   "pygments_lexer": "ipython3",
   "version": "3.13.2"
  }
 },
 "nbformat": 4,
 "nbformat_minor": 5
}
