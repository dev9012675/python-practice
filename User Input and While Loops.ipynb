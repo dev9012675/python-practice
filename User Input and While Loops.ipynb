{
 "cells": [
  {
   "cell_type": "markdown",
   "id": "a84f88e2-c00c-4f60-8337-726f0191662e",
   "metadata": {},
   "source": [
    "# User Input and While Loops"
   ]
  },
  {
   "cell_type": "code",
   "execution_count": 7,
   "id": "4e5f9d51-3aa2-402f-9f53-59178407b6dc",
   "metadata": {},
   "outputs": [
    {
     "name": "stdin",
     "output_type": "stream",
     "text": [
      "Enter a number please: 50\n"
     ]
    },
    {
     "name": "stdout",
     "output_type": "stream",
     "text": [
      "50 is a multiple of 10\n"
     ]
    }
   ],
   "source": [
    "# The following code checks whether the number entered by the user is a multiple of 10 or not.\n",
    "number = int(input('Enter a number please:'))\n",
    "if number % 10 == 0:\n",
    "    print(f'{number} is a multiple of 10')\n",
    "else:\n",
    "    print(f'{number} is not a multiple of 10')"
   ]
  },
  {
   "cell_type": "code",
   "execution_count": 1,
   "id": "30cfbd25-0dac-40f6-a368-e9746513bc6b",
   "metadata": {},
   "outputs": [
    {
     "name": "stdin",
     "output_type": "stream",
     "text": [
      "Enter your age(To quit, enter quit): 1\n"
     ]
    },
    {
     "name": "stdout",
     "output_type": "stream",
     "text": [
      "Your ticket is free.\n"
     ]
    },
    {
     "name": "stdin",
     "output_type": "stream",
     "text": [
      "Enter your age(To quit, enter quit): 3\n"
     ]
    },
    {
     "name": "stdout",
     "output_type": "stream",
     "text": [
      "Your ticket costs $10.\n"
     ]
    },
    {
     "name": "stdin",
     "output_type": "stream",
     "text": [
      "Enter your age(To quit, enter quit): 5\n"
     ]
    },
    {
     "name": "stdout",
     "output_type": "stream",
     "text": [
      "Your ticket costs $10.\n"
     ]
    },
    {
     "name": "stdin",
     "output_type": "stream",
     "text": [
      "Enter your age(To quit, enter quit): 12\n"
     ]
    },
    {
     "name": "stdout",
     "output_type": "stream",
     "text": [
      "Your ticket costs $10.\n"
     ]
    },
    {
     "name": "stdin",
     "output_type": "stream",
     "text": [
      "Enter your age(To quit, enter quit): 15\n"
     ]
    },
    {
     "name": "stdout",
     "output_type": "stream",
     "text": [
      "Your ticket costs $15.\n"
     ]
    },
    {
     "name": "stdin",
     "output_type": "stream",
     "text": [
      "Enter your age(To quit, enter quit): quit\n"
     ]
    }
   ],
   "source": [
    "# The following code shows how to use a while loop.\n",
    "active = True\n",
    "while active == True:\n",
    "    age = input('Enter your age(To quit, enter quit):')\n",
    "    if age.lower() == 'quit':\n",
    "        active = False\n",
    "        break\n",
    "    else:\n",
    "        age = int(age)\n",
    "        if age < 3:\n",
    "            print('Your ticket is free.')\n",
    "        elif age >= 3 and age <= 12:\n",
    "            print('Your ticket costs $10.')\n",
    "        elif age > 12:\n",
    "            print('Your ticket costs $15.')\n"
   ]
  },
  {
   "cell_type": "markdown",
   "id": "382ba4a2-b83e-44d4-860d-10d51fbeda0a",
   "metadata": {},
   "source": [
    "## Using While Loops with Lists and Dictionaries"
   ]
  },
  {
   "cell_type": "code",
   "execution_count": 4,
   "id": "34beac9d-d617-4a57-bdc9-18c6a2bf3cf4",
   "metadata": {},
   "outputs": [
    {
     "name": "stdout",
     "output_type": "stream",
     "text": [
      "The resturant has run out of Pastrami.\n",
      "\n",
      "\n",
      "The Chocolate sandwich has been made.\n",
      "The Chicken sandwich has been made.\n",
      "\n",
      "The following sandwiches have been made:\n",
      "Chocolate\n",
      "Chicken\n"
     ]
    }
   ],
   "source": [
    "# THe following code shows how to use a while loop with lists.\n",
    "\n",
    "sandwich_orders = ['pastrami' , 'pastrami' , 'chicken' , 'pastrami' , 'chocolate']\n",
    "finished_sandwiches = []\n",
    "print('The resturant has run out of Pastrami.')\n",
    "while 'pastrami' in sandwich_orders:\n",
    "    sandwich_orders.remove('pastrami')\n",
    "\n",
    "print('\\n')\n",
    "while sandwich_orders:\n",
    "    order = sandwich_orders.pop()\n",
    "    print(f'The {order.title()} sandwich has been made.')\n",
    "    finished_sandwiches.append(order)\n",
    "\n",
    "print('\\nThe following sandwiches have been made:')\n",
    "for sandwich in finished_sandwiches:\n",
    "    print(sandwich.title())\n",
    "    \n",
    "        \n",
    "    "
   ]
  },
  {
   "cell_type": "code",
   "execution_count": 6,
   "id": "b5ccce0b-5d69-4d99-aff5-cc563dde2647",
   "metadata": {},
   "outputs": [
    {
     "name": "stdin",
     "output_type": "stream",
     "text": [
      "Please enter your name: John\n",
      "What is your favourite place in the world? London\n",
      "Does anyone else want to take the poll(Press N to quit)? \n",
      "Please enter your name: Jane\n",
      "What is your favourite place in the world? manchester\n",
      "Does anyone else want to take the poll(Press N to quit)? n\n"
     ]
    },
    {
     "name": "stdout",
     "output_type": "stream",
     "text": [
      "\n",
      "The poll results are as follows:\n",
      "John:London\n",
      "Jane:Manchester\n"
     ]
    }
   ],
   "source": [
    "# The following code shows how to use while loops with dictionaries.\n",
    "\n",
    "places = {}\n",
    "active = True\n",
    "\n",
    "while active == True:\n",
    "    name = input('Please enter your name:')\n",
    "    place = input('What is your favourite place in the world?')\n",
    "    places[name] = place\n",
    "    poll = input('Does anyone else want to take the poll(Press N to quit)?')\n",
    "    if poll.lower() == 'n':\n",
    "        active = False\n",
    "\n",
    "print('\\nThe poll results are as follows:')\n",
    "for name , place in places.items():\n",
    "    print(f'{name.title()}:{place.title()}')"
   ]
  },
  {
   "cell_type": "code",
   "execution_count": null,
   "id": "95c3577c-b75b-491a-a15f-6a6815b62e0e",
   "metadata": {},
   "outputs": [],
   "source": []
  }
 ],
 "metadata": {
  "kernelspec": {
   "display_name": "Python 3 (ipykernel)",
   "language": "python",
   "name": "python3"
  },
  "language_info": {
   "codemirror_mode": {
    "name": "ipython",
    "version": 3
   },
   "file_extension": ".py",
   "mimetype": "text/x-python",
   "name": "python",
   "nbconvert_exporter": "python",
   "pygments_lexer": "ipython3",
   "version": "3.13.2"
  }
 },
 "nbformat": 4,
 "nbformat_minor": 5
}
