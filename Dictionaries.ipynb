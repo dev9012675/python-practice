{
 "cells": [
  {
   "cell_type": "markdown",
   "id": "61bad7ab-f21d-412e-8c2a-998dad0869f6",
   "metadata": {},
   "source": [
    "# Dictionaries"
   ]
  },
  {
   "cell_type": "code",
   "execution_count": 3,
   "id": "3ba779cd-950b-4c46-a430-7abd94fc0600",
   "metadata": {},
   "outputs": [
    {
     "name": "stdout",
     "output_type": "stream",
     "text": [
      "John\n",
      "Doe\n",
      "32\n",
      "New York\n"
     ]
    }
   ],
   "source": [
    "# The following code prints info about a person.\n",
    "\n",
    "person = {\n",
    "    'first_name':'John' ,\n",
    "    'last_name':'Doe' ,\n",
    "    'age':32 ,\n",
    "    'city': 'New York'\n",
    "}\n",
    "print(person['first_name'])\n",
    "print(person['last_name'])\n",
    "print(person['age'])\n",
    "print(person['city'])"
   ]
  },
  {
   "cell_type": "markdown",
   "id": "fc15a96d-a1b2-4c2d-a503-12cccd9fdc8b",
   "metadata": {},
   "source": [
    "## Looping through Dictionaries"
   ]
  },
  {
   "cell_type": "raw",
   "id": "5898399d-e057-48d1-8371-a3ff31e86a66",
   "metadata": {},
   "source": [
    "The following two code snippets show how to loop through a dictionary."
   ]
  },
  {
   "cell_type": "code",
   "execution_count": 8,
   "id": "3caf80eb-960b-4c4c-9196-424127790bb6",
   "metadata": {},
   "outputs": [
    {
     "name": "stdout",
     "output_type": "stream",
     "text": [
      "Some major rivers in the world are as follows:\n",
      "Nile\n",
      "Amazon\n",
      "Mississippi\n",
      "\n",
      "They flow through the following countries respectively:\n",
      "Egypt\n",
      "Brazil\n",
      "United States\n",
      "\n",
      "\n",
      "The river Nile flows through Egypt\n",
      "The river Amazon flows through Brazil\n",
      "The river Mississippi flows through United States\n"
     ]
    }
   ],
   "source": [
    "\n",
    "rivers = {\n",
    "    'nile':'egypt' ,\n",
    "    'amazon': 'brazil' ,\n",
    "    'mississippi':'united states'\n",
    "    }\n",
    "print('Some major rivers in the world are as follows:')\n",
    "for river in rivers:\n",
    "    print(river.title())\n",
    "\n",
    "print('\\nThey flow through the following countries respectively:')\n",
    "for country in rivers.values():\n",
    "    print(country.title())\n",
    "    \n",
    "print('\\n')\n",
    "for river , country in rivers.items():\n",
    "    print(f'The river {river.title()} flows through {country.title()}')"
   ]
  },
  {
   "cell_type": "code",
   "execution_count": 14,
   "id": "320e1a02-9e90-48bf-aeac-dbd2c652f3fb",
   "metadata": {},
   "outputs": [
    {
     "name": "stdout",
     "output_type": "stream",
     "text": [
      "Jen, thank you for taking the poll.\n",
      "Edward, thank you for taking the poll.\n",
      "John, please take the favourite languages poll.\n",
      "Doe, please take the favourite languages poll.\n",
      "Smith, please take the favourite languages poll.\n"
     ]
    }
   ],
   "source": [
    "favourite_languages = {\n",
    "'jen': 'python',\n",
    "'sarah': 'c',\n",
    "'edward': 'ruby',\n",
    "'phil': 'python',\n",
    "}\n",
    "people = ['jen' , 'edward' , 'john' , 'doe' , 'smith']\n",
    "for person in people:\n",
    "    if person in favourite_languages :\n",
    "        print(f'{person.title()}, thank you for taking the poll.')\n",
    "    else:\n",
    "        print(f'{person.title()}, please take the favourite languages poll.')"
   ]
  },
  {
   "cell_type": "markdown",
   "id": "7764407a-cdd5-40da-93a0-9965393a4e04",
   "metadata": {},
   "source": [
    "## Nesting"
   ]
  },
  {
   "cell_type": "code",
   "execution_count": 18,
   "id": "74963f6a-5511-4ee7-b5a8-ab56339b6f4c",
   "metadata": {},
   "outputs": [
    {
     "name": "stdout",
     "output_type": "stream",
     "text": [
      "Animal:Cat\n",
      "Owner_Name:John\n",
      "\n",
      "\n",
      "Animal:Rabbit\n",
      "Owner_Name:Doe\n",
      "\n",
      "\n"
     ]
    }
   ],
   "source": [
    "# The following code shows how to nest a dictionary inside a list\n",
    "\n",
    "pet1 = {\n",
    "    'animal': 'Cat',\n",
    "    'owner_name': 'John'\n",
    "    }\n",
    "pet2 = {\n",
    "    'animal': 'Rabbit',\n",
    "    'owner_name': 'Doe'\n",
    "    }\n",
    "\n",
    "pets = [pet1 , pet2]\n",
    "for pet in pets:\n",
    "    for k , v in pet.items():\n",
    "        print(f'{k.title()}:{v.title()}')\n",
    "    print('\\n')"
   ]
  },
  {
   "cell_type": "code",
   "execution_count": 19,
   "id": "7580bd40-d8ae-4e94-b187-efd7cedfd9df",
   "metadata": {},
   "outputs": [
    {
     "name": "stdout",
     "output_type": "stream",
     "text": [
      "City:New York\n",
      "country:USA\n",
      "population:8000000\n",
      "fact:The most ethnically diverse urban centre in the country.\n",
      "\n",
      "\n",
      "City:London\n",
      "country:England\n",
      "population:8500000\n",
      "fact:It is the capital of England.\n",
      "\n",
      "\n",
      "City:Paris\n",
      "country:France\n",
      "population:2000000\n",
      "fact:It is known for its cafe culture.\n",
      "\n",
      "\n"
     ]
    }
   ],
   "source": [
    "# The following code shows how to nest a dictionary inside another dictionary.\n",
    "\n",
    "cities = {\n",
    "    'new york':{\n",
    "        'country':'USA' , \n",
    "        'population':8000_000,\n",
    "        'fact':'The most ethnically diverse urban centre in the country.'\n",
    "    } ,\n",
    "    'london':{\n",
    "        'country':'England' , \n",
    "        'population':8500_000,\n",
    "        'fact':'It is the capital of England.'\n",
    "    } ,\n",
    "     'paris':{\n",
    "        'country':'France' , \n",
    "        'population':2000_000,\n",
    "        'fact':'It is known for its cafe culture.'\n",
    "    }\n",
    "   }\n",
    "\n",
    "for city , info in cities.items():\n",
    "    print(f'City:{city.title()}')\n",
    "    for key , value in info.items():\n",
    "        print(f'{key}:{value}')\n",
    "    print('\\n')\n",
    "\n",
    "    \n",
    "    \n",
    "    \n",
    "        \n"
   ]
  }
 ],
 "metadata": {
  "kernelspec": {
   "display_name": "Python 3 (ipykernel)",
   "language": "python",
   "name": "python3"
  },
  "language_info": {
   "codemirror_mode": {
    "name": "ipython",
    "version": 3
   },
   "file_extension": ".py",
   "mimetype": "text/x-python",
   "name": "python",
   "nbconvert_exporter": "python",
   "pygments_lexer": "ipython3",
   "version": "3.13.2"
  }
 },
 "nbformat": 4,
 "nbformat_minor": 5
}
